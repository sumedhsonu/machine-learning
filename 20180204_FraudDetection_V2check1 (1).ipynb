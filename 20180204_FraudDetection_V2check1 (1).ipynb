{
 "cells": [
  {
   "cell_type": "markdown",
   "metadata": {},
   "source": [
    "### Loading the required libraries"
   ]
  },
  {
   "cell_type": "code",
   "execution_count": 1,
   "metadata": {},
   "outputs": [
    {
     "name": "stderr",
     "output_type": "stream",
     "text": [
      "Using TensorFlow backend.\n"
     ]
    }
   ],
   "source": [
    "import pandas as pd\n",
    "import numpy as np\n",
    "import matplotlib.pyplot as plt\n",
    "from pylab import rcParams\n",
    "from keras.models import Sequential\n",
    "from keras.layers import Dense, Dropout\n",
    "\n",
    "%matplotlib inline\n",
    "\n",
    "RANDOM_SEED =7124\n",
    "LABELS = [\"Normal\", \"Fraud\"]"
   ]
  },
  {
   "cell_type": "code",
   "execution_count": 2,
   "metadata": {},
   "outputs": [
    {
     "data": {
      "text/plain": [
       "(100000, 30)"
      ]
     },
     "execution_count": 2,
     "metadata": {},
     "output_type": "execute_result"
    }
   ],
   "source": [
    "# Reading the data and lookng at the structure of the data. This data has 30 attributes and 1 lakh records\n",
    "data = pd.read_csv(\"Fraud_data_amtstd.csv\")\n",
    "data.shape"
   ]
  },
  {
   "cell_type": "code",
   "execution_count": 3,
   "metadata": {},
   "outputs": [
    {
     "name": "stdout",
     "output_type": "stream",
     "text": [
      "0    99508\n",
      "1      492\n",
      "Name: Class, dtype: int64\n"
     ]
    },
    {
     "data": {
      "image/png": "[encoded data removed]",
      "text/plain": [
       "<matplotlib.figure.Figure at 0x17f92543278>"
      ]
     },
     "metadata": {},
     "output_type": "display_data"
    }
   ],
   "source": [
    "#PLotting the frequencies of fraud and non-fraud transactions in the data\n",
    "count_classes = pd.value_counts(data['Class'], sort = True)\n",
    "print(count_classes)\n",
    "\n",
    "#Drawing a barplot\n",
    "count_classes.plot(kind = 'bar', rot=0)\n",
    "\n",
    "#Giving titles and labels to the plot\n",
    "plt.title(\"Transaction class distribution\")\n",
    "plt.xticks(range(2), LABELS)\n",
    "plt.xlabel(\"Class\")\n",
    "plt.ylabel(\"Frequency\");"
   ]
  },
  {
   "cell_type": "code",
   "execution_count": 4,
   "metadata": {},
   "outputs": [
    {
     "data": {
      "text/html": [
       "<div>\n",
       "<style>\n",
       "    .dataframe thead tr:only-child th {\n",
       "        text-align: right;\n",
       "    }\n",
       "\n",
       "    .dataframe thead th {\n",
       "        text-align: left;\n",
       "    }\n",
       "\n",
       "    .dataframe tbody tr th {\n",
       "        vertical-align: top;\n",
       "    }\n",
       "</style>\n",
       "<table border=\"1\" class=\"dataframe\">\n",
       "  <thead>\n",
       "    <tr style=\"text-align: right;\">\n",
       "      <th></th>\n",
       "      <th>V1</th>\n",
       "      <th>V2</th>\n",
       "      <th>V3</th>\n",
       "      <th>V4</th>\n",
       "      <th>V5</th>\n",
       "      <th>V6</th>\n",
       "      <th>V7</th>\n",
       "      <th>V8</th>\n",
       "      <th>V9</th>\n",
       "      <th>V10</th>\n",
       "      <th>...</th>\n",
       "      <th>V21</th>\n",
       "      <th>V22</th>\n",
       "      <th>V23</th>\n",
       "      <th>V24</th>\n",
       "      <th>V25</th>\n",
       "      <th>V26</th>\n",
       "      <th>V27</th>\n",
       "      <th>V28</th>\n",
       "      <th>Amount</th>\n",
       "      <th>Class</th>\n",
       "    </tr>\n",
       "  </thead>\n",
       "  <tbody>\n",
       "    <tr>\n",
       "      <th>0</th>\n",
       "      <td>1.836500</td>\n",
       "      <td>-0.545419</td>\n",
       "      <td>-0.462979</td>\n",
       "      <td>0.537174</td>\n",
       "      <td>-0.426143</td>\n",
       "      <td>-0.100606</td>\n",
       "      <td>-0.584764</td>\n",
       "      <td>-0.103956</td>\n",
       "      <td>2.268429</td>\n",
       "      <td>-0.365185</td>\n",
       "      <td>...</td>\n",
       "      <td>0.085111</td>\n",
       "      <td>0.410736</td>\n",
       "      <td>0.137625</td>\n",
       "      <td>0.602906</td>\n",
       "      <td>-0.350260</td>\n",
       "      <td>0.464407</td>\n",
       "      <td>-0.070917</td>\n",
       "      <td>-0.030486</td>\n",
       "      <td>0.049882</td>\n",
       "      <td>0</td>\n",
       "    </tr>\n",
       "    <tr>\n",
       "      <th>1</th>\n",
       "      <td>-4.289880</td>\n",
       "      <td>-2.576061</td>\n",
       "      <td>-0.092256</td>\n",
       "      <td>1.976405</td>\n",
       "      <td>2.810033</td>\n",
       "      <td>-2.669128</td>\n",
       "      <td>-0.981883</td>\n",
       "      <td>-0.470310</td>\n",
       "      <td>-0.025692</td>\n",
       "      <td>0.099528</td>\n",
       "      <td>...</td>\n",
       "      <td>-0.473240</td>\n",
       "      <td>-0.307295</td>\n",
       "      <td>-2.789549</td>\n",
       "      <td>0.578976</td>\n",
       "      <td>-0.837979</td>\n",
       "      <td>0.372843</td>\n",
       "      <td>0.353451</td>\n",
       "      <td>-1.662202</td>\n",
       "      <td>-0.347171</td>\n",
       "      <td>0</td>\n",
       "    </tr>\n",
       "    <tr>\n",
       "      <th>2</th>\n",
       "      <td>1.131318</td>\n",
       "      <td>0.139818</td>\n",
       "      <td>0.586921</td>\n",
       "      <td>1.069291</td>\n",
       "      <td>-0.334908</td>\n",
       "      <td>-0.204938</td>\n",
       "      <td>-0.135526</td>\n",
       "      <td>0.043821</td>\n",
       "      <td>-0.121117</td>\n",
       "      <td>0.182139</td>\n",
       "      <td>...</td>\n",
       "      <td>-0.028126</td>\n",
       "      <td>-0.167062</td>\n",
       "      <td>-0.048054</td>\n",
       "      <td>-0.009912</td>\n",
       "      <td>0.417694</td>\n",
       "      <td>-0.479793</td>\n",
       "      <td>0.024360</td>\n",
       "      <td>0.023878</td>\n",
       "      <td>-0.208963</td>\n",
       "      <td>0</td>\n",
       "    </tr>\n",
       "    <tr>\n",
       "      <th>3</th>\n",
       "      <td>-0.866956</td>\n",
       "      <td>1.373947</td>\n",
       "      <td>1.948343</td>\n",
       "      <td>2.686750</td>\n",
       "      <td>-0.366790</td>\n",
       "      <td>0.568632</td>\n",
       "      <td>-0.278349</td>\n",
       "      <td>0.739536</td>\n",
       "      <td>-1.655955</td>\n",
       "      <td>0.708396</td>\n",
       "      <td>...</td>\n",
       "      <td>0.022719</td>\n",
       "      <td>-0.070619</td>\n",
       "      <td>-0.080307</td>\n",
       "      <td>0.000816</td>\n",
       "      <td>0.092167</td>\n",
       "      <td>0.159131</td>\n",
       "      <td>0.157940</td>\n",
       "      <td>-0.014370</td>\n",
       "      <td>-0.253595</td>\n",
       "      <td>0</td>\n",
       "    </tr>\n",
       "    <tr>\n",
       "      <th>4</th>\n",
       "      <td>-0.842670</td>\n",
       "      <td>1.401843</td>\n",
       "      <td>0.927235</td>\n",
       "      <td>1.070402</td>\n",
       "      <td>0.843883</td>\n",
       "      <td>0.467333</td>\n",
       "      <td>0.366716</td>\n",
       "      <td>0.616739</td>\n",
       "      <td>-1.586963</td>\n",
       "      <td>0.000041</td>\n",
       "      <td>...</td>\n",
       "      <td>0.036573</td>\n",
       "      <td>-0.182581</td>\n",
       "      <td>-0.226834</td>\n",
       "      <td>-1.029794</td>\n",
       "      <td>-0.118762</td>\n",
       "      <td>-0.228960</td>\n",
       "      <td>-0.024250</td>\n",
       "      <td>0.046547</td>\n",
       "      <td>-0.346230</td>\n",
       "      <td>0</td>\n",
       "    </tr>\n",
       "    <tr>\n",
       "      <th>5</th>\n",
       "      <td>1.178458</td>\n",
       "      <td>0.166055</td>\n",
       "      <td>-0.101567</td>\n",
       "      <td>0.369453</td>\n",
       "      <td>0.017198</td>\n",
       "      <td>-0.722891</td>\n",
       "      <td>0.396639</td>\n",
       "      <td>-0.187978</td>\n",
       "      <td>-0.483147</td>\n",
       "      <td>0.083094</td>\n",
       "      <td>...</td>\n",
       "      <td>-0.323048</td>\n",
       "      <td>-1.083814</td>\n",
       "      <td>0.049838</td>\n",
       "      <td>-0.002872</td>\n",
       "      <td>0.295810</td>\n",
       "      <td>0.135883</td>\n",
       "      <td>-0.074191</td>\n",
       "      <td>0.004364</td>\n",
       "      <td>-0.150527</td>\n",
       "      <td>0</td>\n",
       "    </tr>\n",
       "    <tr>\n",
       "      <th>6</th>\n",
       "      <td>1.869017</td>\n",
       "      <td>-0.202287</td>\n",
       "      <td>-0.218739</td>\n",
       "      <td>1.496434</td>\n",
       "      <td>-0.403332</td>\n",
       "      <td>-0.013593</td>\n",
       "      <td>-0.342586</td>\n",
       "      <td>0.129402</td>\n",
       "      <td>0.911017</td>\n",
       "      <td>0.149568</td>\n",
       "      <td>...</td>\n",
       "      <td>-0.458963</td>\n",
       "      <td>-1.058509</td>\n",
       "      <td>0.439679</td>\n",
       "      <td>-0.066668</td>\n",
       "      <td>-0.376792</td>\n",
       "      <td>-1.125226</td>\n",
       "      <td>0.053537</td>\n",
       "      <td>-0.039380</td>\n",
       "      <td>-0.305050</td>\n",
       "      <td>0</td>\n",
       "    </tr>\n",
       "    <tr>\n",
       "      <th>7</th>\n",
       "      <td>1.335053</td>\n",
       "      <td>0.331464</td>\n",
       "      <td>-2.057763</td>\n",
       "      <td>-0.346175</td>\n",
       "      <td>2.583234</td>\n",
       "      <td>2.854102</td>\n",
       "      <td>-0.187547</td>\n",
       "      <td>0.685154</td>\n",
       "      <td>-0.286614</td>\n",
       "      <td>-0.535903</td>\n",
       "      <td>...</td>\n",
       "      <td>-0.191820</td>\n",
       "      <td>-0.650118</td>\n",
       "      <td>-0.114069</td>\n",
       "      <td>0.915936</td>\n",
       "      <td>0.730073</td>\n",
       "      <td>0.383879</td>\n",
       "      <td>-0.031902</td>\n",
       "      <td>0.029849</td>\n",
       "      <td>-0.347171</td>\n",
       "      <td>0</td>\n",
       "    </tr>\n",
       "    <tr>\n",
       "      <th>8</th>\n",
       "      <td>1.787763</td>\n",
       "      <td>-0.737892</td>\n",
       "      <td>-0.185794</td>\n",
       "      <td>0.362758</td>\n",
       "      <td>-0.550775</td>\n",
       "      <td>0.676564</td>\n",
       "      <td>-0.932369</td>\n",
       "      <td>0.390445</td>\n",
       "      <td>1.349983</td>\n",
       "      <td>-0.136095</td>\n",
       "      <td>...</td>\n",
       "      <td>0.331025</td>\n",
       "      <td>1.223539</td>\n",
       "      <td>0.264791</td>\n",
       "      <td>-0.541170</td>\n",
       "      <td>-0.571339</td>\n",
       "      <td>0.812785</td>\n",
       "      <td>0.017984</td>\n",
       "      <td>-0.054691</td>\n",
       "      <td>-0.232691</td>\n",
       "      <td>0</td>\n",
       "    </tr>\n",
       "    <tr>\n",
       "      <th>9</th>\n",
       "      <td>-1.055540</td>\n",
       "      <td>0.942471</td>\n",
       "      <td>0.986697</td>\n",
       "      <td>1.560551</td>\n",
       "      <td>-0.138755</td>\n",
       "      <td>-0.253645</td>\n",
       "      <td>0.622974</td>\n",
       "      <td>-0.321826</td>\n",
       "      <td>-0.215914</td>\n",
       "      <td>0.816454</td>\n",
       "      <td>...</td>\n",
       "      <td>0.153985</td>\n",
       "      <td>0.985031</td>\n",
       "      <td>0.204281</td>\n",
       "      <td>0.455561</td>\n",
       "      <td>-0.456576</td>\n",
       "      <td>-0.244140</td>\n",
       "      <td>-0.833487</td>\n",
       "      <td>-0.419773</td>\n",
       "      <td>-0.173549</td>\n",
       "      <td>0</td>\n",
       "    </tr>\n",
       "  </tbody>\n",
       "</table>\n",
       "<p>10 rows × 30 columns</p>\n",
       "</div>"
      ],
      "text/plain": [
       "         V1        V2        V3        V4        V5        V6        V7  \\\n",
       "0  1.836500 -0.545419 -0.462979  0.537174 -0.426143 -0.100606 -0.584764   \n",
       "1 -4.289880 -2.576061 -0.092256  1.976405  2.810033 -2.669128 -0.981883   \n",
       "2  1.131318  0.139818  0.586921  1.069291 -0.334908 -0.204938 -0.135526   \n",
       "3 -0.866956  1.373947  1.948343  2.686750 -0.366790  0.568632 -0.278349   \n",
       "4 -0.842670  1.401843  0.927235  1.070402  0.843883  0.467333  0.366716   \n",
       "5  1.178458  0.166055 -0.101567  0.369453  0.017198 -0.722891  0.396639   \n",
       "6  1.869017 -0.202287 -0.218739  1.496434 -0.403332 -0.013593 -0.342586   \n",
       "7  1.335053  0.331464 -2.057763 -0.346175  2.583234  2.854102 -0.187547   \n",
       "8  1.787763 -0.737892 -0.185794  0.362758 -0.550775  0.676564 -0.932369   \n",
       "9 -1.055540  0.942471  0.986697  1.560551 -0.138755 -0.253645  0.622974   \n",
       "\n",
       "         V8        V9       V10  ...         V21       V22       V23  \\\n",
       "0 -0.103956  2.268429 -0.365185  ...    0.085111  0.410736  0.137625   \n",
       "1 -0.470310 -0.025692  0.099528  ...   -0.473240 -0.307295 -2.789549   \n",
       "2  0.043821 -0.121117  0.182139  ...   -0.028126 -0.167062 -0.048054   \n",
       "3  0.739536 -1.655955  0.708396  ...    0.022719 -0.070619 -0.080307   \n",
       "4  0.616739 -1.586963  0.000041  ...    0.036573 -0.182581 -0.226834   \n",
       "5 -0.187978 -0.483147  0.083094  ...   -0.323048 -1.083814  0.049838   \n",
       "6  0.129402  0.911017  0.149568  ...   -0.458963 -1.058509  0.439679   \n",
       "7  0.685154 -0.286614 -0.535903  ...   -0.191820 -0.650118 -0.114069   \n",
       "8  0.390445  1.349983 -0.136095  ...    0.331025  1.223539  0.264791   \n",
       "9 -0.321826 -0.215914  0.816454  ...    0.153985  0.985031  0.204281   \n",
       "\n",
       "        V24       V25       V26       V27       V28    Amount  Class  \n",
       "0  0.602906 -0.350260  0.464407 -0.070917 -0.030486  0.049882      0  \n",
       "1  0.578976 -0.837979  0.372843  0.353451 -1.662202 -0.347171      0  \n",
       "2 -0.009912  0.417694 -0.479793  0.024360  0.023878 -0.208963      0  \n",
       "3  0.000816  0.092167  0.159131  0.157940 -0.014370 -0.253595      0  \n",
       "4 -1.029794 -0.118762 -0.228960 -0.024250  0.046547 -0.346230      0  \n",
       "5 -0.002872  0.295810  0.135883 -0.074191  0.004364 -0.150527      0  \n",
       "6 -0.066668 -0.376792 -1.125226  0.053537 -0.039380 -0.305050      0  \n",
       "7  0.915936  0.730073  0.383879 -0.031902  0.029849 -0.347171      0  \n",
       "8 -0.541170 -0.571339  0.812785  0.017984 -0.054691 -0.232691      0  \n",
       "9  0.455561 -0.456576 -0.244140 -0.833487 -0.419773 -0.173549      0  \n",
       "\n",
       "[10 rows x 30 columns]"
      ]
     },
     "execution_count": 4,
     "metadata": {},
     "output_type": "execute_result"
    }
   ],
   "source": [
    "#Looking at a sample of records\n",
    "data.head(10)"
   ]
  },
  {
   "cell_type": "code",
   "execution_count": 5,
   "metadata": {
    "collapsed": true
   },
   "outputs": [],
   "source": [
    "from sklearn.model_selection import train_test_split\n",
    "#Converting data to array\n",
    "data = np.array(data)"
   ]
  },
  {
   "cell_type": "code",
   "execution_count": 6,
   "metadata": {},
   "outputs": [
    {
     "name": "stdout",
     "output_type": "stream",
     "text": [
      "(80000, 30)\n",
      "(20000, 30)\n"
     ]
    }
   ],
   "source": [
    "#Splitting the data into train and test and observing their dimensions\n",
    "X_train, X_test = train_test_split(data, test_size=0.2, random_state=RANDOM_SEED)\n",
    "print(X_train.shape)\n",
    "print(X_test.shape)"
   ]
  },
  {
   "cell_type": "code",
   "execution_count": 7,
   "metadata": {},
   "outputs": [
    {
     "name": "stdout",
     "output_type": "stream",
     "text": [
      "(array([ 0.,  1.]), array([79591,   409], dtype=int64))\n",
      "(array([ 0.,  1.]), array([19917,    83], dtype=int64))\n"
     ]
    }
   ],
   "source": [
    "#Obtaining the fraud and non-fraud records in train\n",
    "print(np.unique(X_train[:,29],return_counts=True))\n",
    "print(np.unique(X_test[:,29],return_counts=True))"
   ]
  },
  {
   "cell_type": "code",
   "execution_count": 8,
   "metadata": {},
   "outputs": [
    {
     "name": "stdout",
     "output_type": "stream",
     "text": [
      "(79591, 29)\n"
     ]
    }
   ],
   "source": [
    "#Now consider only the non-fraud records for training\n",
    "X_train1 = X_train[X_train[:,-1] == 0]\n",
    "X_train1 = X_train1[:,:-1]\n",
    "print(X_train1.shape)"
   ]
  },
  {
   "cell_type": "code",
   "execution_count": 9,
   "metadata": {},
   "outputs": [
    {
     "name": "stdout",
     "output_type": "stream",
     "text": [
      "(409, 30)\n"
     ]
    }
   ],
   "source": [
    "#Separating out the fraud records from the train \n",
    "X_train2 = X_train[X_train[:,-1] == 1]\n",
    "print(X_train2.shape)"
   ]
  },
  {
   "cell_type": "code",
   "execution_count": 10,
   "metadata": {},
   "outputs": [
    {
     "name": "stdout",
     "output_type": "stream",
     "text": [
      "(79591, 29)\n"
     ]
    }
   ],
   "source": [
    "X_train=X_train1\n",
    "print(X_train.shape)"
   ]
  },
  {
   "cell_type": "code",
   "execution_count": 11,
   "metadata": {},
   "outputs": [
    {
     "name": "stdout",
     "output_type": "stream",
     "text": [
      "(20409, 30)\n"
     ]
    }
   ],
   "source": [
    "#Adding/concatinating the fraud records from train data to the test\n",
    "X_test=np.concatenate((X_test,X_train2),axis=0)\n",
    "print(X_test.shape)"
   ]
  },
  {
   "cell_type": "code",
   "execution_count": 12,
   "metadata": {
    "collapsed": true
   },
   "outputs": [],
   "source": [
    "X_test,X_eval = train_test_split(X_test, test_size=0.2, random_state=RANDOM_SEED)"
   ]
  },
  {
   "cell_type": "code",
   "execution_count": 13,
   "metadata": {},
   "outputs": [
    {
     "name": "stdout",
     "output_type": "stream",
     "text": [
      "(16327, 30)\n",
      "(4082, 30)\n"
     ]
    }
   ],
   "source": [
    "print(X_test.shape)\n",
    "print(X_eval.shape)"
   ]
  },
  {
   "cell_type": "code",
   "execution_count": 14,
   "metadata": {
    "collapsed": true
   },
   "outputs": [],
   "source": [
    "#Separating the independent and the class variable\n",
    "y_test = X_test[:,-1]\n",
    "X_test = X_test[:,:-1]"
   ]
  },
  {
   "cell_type": "code",
   "execution_count": 15,
   "metadata": {},
   "outputs": [
    {
     "data": {
      "text/plain": [
       "(16327, 1)"
      ]
     },
     "execution_count": 15,
     "metadata": {},
     "output_type": "execute_result"
    }
   ],
   "source": [
    "#Expanding the dimensions of y for later concatenation\n",
    "y_test = np.expand_dims(y_test, axis=1)\n",
    "y_test.shape"
   ]
  },
  {
   "cell_type": "code",
   "execution_count": 16,
   "metadata": {},
   "outputs": [
    {
     "name": "stdout",
     "output_type": "stream",
     "text": [
      "(16327, 30)\n",
      "(15942, 30)\n",
      "(385, 30)\n"
     ]
    }
   ],
   "source": [
    "##We want to separate out fraud records and non-fraud records for later use\n",
    "f = np.hstack((X_test,y_test))\n",
    "print(f.shape)\n",
    "\n",
    "test_nf=f[f[:,29]==0]\n",
    "print(test_nf.shape)\n",
    "\n",
    "test_f=f[f[:,29]==1]\n",
    "print(test_f.shape)"
   ]
  },
  {
   "cell_type": "code",
   "execution_count": 17,
   "metadata": {
    "collapsed": true
   },
   "outputs": [],
   "source": [
    "##Removing unnecessary variables\n",
    "del X_train1, X_train2"
   ]
  },
  {
   "cell_type": "markdown",
   "metadata": {},
   "source": [
    "#### Model Building"
   ]
  },
  {
   "cell_type": "code",
   "execution_count": 18,
   "metadata": {
    "collapsed": true
   },
   "outputs": [],
   "source": [
    "input_dim = X_train.shape[1]\n",
    "encoding_dim = 15"
   ]
  },
  {
   "cell_type": "code",
   "execution_count": 19,
   "metadata": {
    "collapsed": true
   },
   "outputs": [],
   "source": [
    "autoencoder = Sequential()\n",
    "\n",
    "autoencoder.add(Dropout(0.2, input_shape=(input_dim,)))\n",
    "#autoencoder.add(Dense(20, activation='sigmoid'))\n",
    "autoencoder.add(Dense(encoding_dim, activation='relu'))\n",
    "#autoencoder.add(Dense(20, activation='sigmoid'))\n",
    "autoencoder.add(Dense(input_dim, activation='linear'))"
   ]
  },
  {
   "cell_type": "code",
   "execution_count": 20,
   "metadata": {
    "collapsed": true
   },
   "outputs": [],
   "source": [
    "nb_epoch = 100\n",
    "batch_size = 32\n",
    "\n",
    "autoencoder.compile(optimizer='adam', \n",
    "                    loss='mean_squared_error', \n",
    "                    metrics=['mse'])"
   ]
  },
  {
   "cell_type": "code",
   "execution_count": 21,
   "metadata": {},
   "outputs": [
    {
     "name": "stdout",
     "output_type": "stream",
     "text": [
      "Train on 79591 samples, validate on 16327 samples\n",
      "Epoch 1/1\n",
      "79591/79591 [==============================] - 5s - loss: 0.5861 - mean_squared_error: 0.5861 - val_loss: 0.7691 - val_mean_squared_error: 0.7691\n",
      "Train on 79591 samples, validate on 16327 samples\n",
      "Epoch 1/1\n",
      "79591/79591 [==============================] - 4s - loss: 0.3705 - mean_squared_error: 0.3705 - val_loss: 0.7021 - val_mean_squared_error: 0.7021\n",
      "Train on 79591 samples, validate on 16327 samples\n",
      "Epoch 1/1\n",
      "79591/79591 [==============================] - 4s - loss: 0.3561 - mean_squared_error: 0.3561 - val_loss: 0.7034 - val_mean_squared_error: 0.7034\n",
      "Train on 79591 samples, validate on 16327 samples\n",
      "Epoch 1/1\n",
      "79591/79591 [==============================] - 4s - loss: 0.3519 - mean_squared_error: 0.3519 - val_loss: 0.7168 - val_mean_squared_error: 0.7168\n",
      "Train on 79591 samples, validate on 16327 samples\n",
      "Epoch 1/1\n",
      "79591/79591 [==============================] - 4s - loss: 0.3525 - mean_squared_error: 0.3525 - val_loss: 0.6919 - val_mean_squared_error: 0.6919\n",
      "Train on 79591 samples, validate on 16327 samples\n",
      "Epoch 1/1\n",
      "79591/79591 [==============================] - 4s - loss: 0.3468 - mean_squared_error: 0.3468 - val_loss: 0.7063 - val_mean_squared_error: 0.7063\n",
      "Train on 79591 samples, validate on 16327 samples\n",
      "Epoch 1/1\n",
      "79591/79591 [==============================] - 4s - loss: 0.3461 - mean_squared_error: 0.3461 - val_loss: 0.7066 - val_mean_squared_error: 0.7066\n",
      "Train on 79591 samples, validate on 16327 samples\n",
      "Epoch 1/1\n",
      "79591/79591 [==============================] - 4s - loss: 0.3467 - mean_squared_error: 0.3467 - val_loss: 0.6889 - val_mean_squared_error: 0.6889\n",
      "Train on 79591 samples, validate on 16327 samples\n",
      "Epoch 1/1\n",
      "79591/79591 [==============================] - 5s - loss: 0.3412 - mean_squared_error: 0.3412 - val_loss: 0.7031 - val_mean_squared_error: 0.7031\n",
      "Train on 79591 samples, validate on 16327 samples\n",
      "Epoch 1/1\n",
      "79591/79591 [==============================] - 5s - loss: 0.3435 - mean_squared_error: 0.3435 - val_loss: 0.7127 - val_mean_squared_error: 0.7127\n",
      "Train on 79591 samples, validate on 16327 samples\n",
      "Epoch 1/1\n",
      "79591/79591 [==============================] - 5s - loss: 0.3414 - mean_squared_error: 0.3414 - val_loss: 0.7002 - val_mean_squared_error: 0.7002\n",
      "Train on 79591 samples, validate on 16327 samples\n",
      "Epoch 1/1\n",
      "79591/79591 [==============================] - 5s - loss: 0.3455 - mean_squared_error: 0.3455 - val_loss: 0.6813 - val_mean_squared_error: 0.6813\n",
      "Train on 79591 samples, validate on 16327 samples\n",
      "Epoch 1/1\n",
      "79591/79591 [==============================] - 5s - loss: 0.3396 - mean_squared_error: 0.3396 - val_loss: 0.6905 - val_mean_squared_error: 0.6905\n",
      "Train on 79591 samples, validate on 16327 samples\n",
      "Epoch 1/1\n",
      "79591/79591 [==============================] - 4s - loss: 0.3420 - mean_squared_error: 0.3420 - val_loss: 0.6926 - val_mean_squared_error: 0.6926\n",
      "Train on 79591 samples, validate on 16327 samples\n",
      "Epoch 1/1\n",
      "79591/79591 [==============================] - 5s - loss: 0.3382 - mean_squared_error: 0.3382 - val_loss: 0.6984 - val_mean_squared_error: 0.6984\n",
      "Train on 79591 samples, validate on 16327 samples\n",
      "Epoch 1/1\n",
      "79591/79591 [==============================] - 5s - loss: 0.3400 - mean_squared_error: 0.3400 - val_loss: 0.7066 - val_mean_squared_error: 0.7066\n",
      "Train on 79591 samples, validate on 16327 samples\n",
      "Epoch 1/1\n",
      "79591/79591 [==============================] - 5s - loss: 0.3371 - mean_squared_error: 0.3371 - val_loss: 0.6934 - val_mean_squared_error: 0.6934\n",
      "Train on 79591 samples, validate on 16327 samples\n",
      "Epoch 1/1\n",
      "79591/79591 [==============================] - 4s - loss: 0.3393 - mean_squared_error: 0.3393 - val_loss: 0.6866 - val_mean_squared_error: 0.6866\n",
      "Train on 79591 samples, validate on 16327 samples\n",
      "Epoch 1/1\n",
      "79591/79591 [==============================] - 4s - loss: 0.3354 - mean_squared_error: 0.3354 - val_loss: 0.6732 - val_mean_squared_error: 0.6732\n",
      "Train on 79591 samples, validate on 16327 samples\n",
      "Epoch 1/1\n",
      "79591/79591 [==============================] - 4s - loss: 0.3360 - mean_squared_error: 0.3360 - val_loss: 0.6840 - val_mean_squared_error: 0.6840\n",
      "Train on 79591 samples, validate on 16327 samples\n",
      "Epoch 1/1\n",
      "79591/79591 [==============================] - 4s - loss: 0.3366 - mean_squared_error: 0.3366 - val_loss: 0.6910 - val_mean_squared_error: 0.6910\n",
      "Train on 79591 samples, validate on 16327 samples\n",
      "Epoch 1/1\n",
      "79591/79591 [==============================] - 4s - loss: 0.3360 - mean_squared_error: 0.3360 - val_loss: 0.6901 - val_mean_squared_error: 0.6901\n",
      "Train on 79591 samples, validate on 16327 samples\n",
      "Epoch 1/1\n",
      "79591/79591 [==============================] - 4s - loss: 0.3339 - mean_squared_error: 0.3339 - val_loss: 0.7085 - val_mean_squared_error: 0.7085\n",
      "Train on 79591 samples, validate on 16327 samples\n",
      "Epoch 1/1\n",
      "79591/79591 [==============================] - 4s - loss: 0.3318 - mean_squared_error: 0.3318 - val_loss: 0.6952 - val_mean_squared_error: 0.6952\n",
      "Train on 79591 samples, validate on 16327 samples\n",
      "Epoch 1/1\n",
      "79591/79591 [==============================] - 4s - loss: 0.3329 - mean_squared_error: 0.3329 - val_loss: 0.6876 - val_mean_squared_error: 0.6876\n",
      "Train on 79591 samples, validate on 16327 samples\n",
      "Epoch 1/1\n",
      "79591/79591 [==============================] - 4s - loss: 0.3344 - mean_squared_error: 0.3344 - val_loss: 0.6949 - val_mean_squared_error: 0.6949\n",
      "Train on 79591 samples, validate on 16327 samples\n",
      "Epoch 1/1\n",
      "79591/79591 [==============================] - 5s - loss: 0.3342 - mean_squared_error: 0.3342 - val_loss: 0.7093 - val_mean_squared_error: 0.7093\n",
      "Train on 79591 samples, validate on 16327 samples\n",
      "Epoch 1/1\n",
      "79591/79591 [==============================] - 4s - loss: 0.3312 - mean_squared_error: 0.3312 - val_loss: 0.6963 - val_mean_squared_error: 0.6963\n",
      "Train on 79591 samples, validate on 16327 samples\n",
      "Epoch 1/1\n",
      "79591/79591 [==============================] - 5s - loss: 0.3331 - mean_squared_error: 0.3331 - val_loss: 0.6964 - val_mean_squared_error: 0.6964\n",
      "Train on 79591 samples, validate on 16327 samples\n",
      "Epoch 1/1\n",
      "79591/79591 [==============================] - 5s - loss: 0.3315 - mean_squared_error: 0.3315 - val_loss: 0.6817 - val_mean_squared_error: 0.6817\n",
      "Train on 79591 samples, validate on 16327 samples\n",
      "Epoch 1/1\n",
      "79591/79591 [==============================] - 4s - loss: 0.3310 - mean_squared_error: 0.3310 - val_loss: 0.6877 - val_mean_squared_error: 0.6877\n",
      "Train on 79591 samples, validate on 16327 samples\n",
      "Epoch 1/1\n",
      "79591/79591 [==============================] - 4s - loss: 0.3343 - mean_squared_error: 0.3343 - val_loss: 0.6937 - val_mean_squared_error: 0.6937\n",
      "Train on 79591 samples, validate on 16327 samples\n",
      "Epoch 1/1\n",
      "79591/79591 [==============================] - 5s - loss: 0.3285 - mean_squared_error: 0.3285 - val_loss: 0.6742 - val_mean_squared_error: 0.6742\n",
      "Train on 79591 samples, validate on 16327 samples\n",
      "Epoch 1/1\n",
      "79591/79591 [==============================] - 4s - loss: 0.3299 - mean_squared_error: 0.3299 - val_loss: 0.6879 - val_mean_squared_error: 0.6879\n",
      "Train on 79591 samples, validate on 16327 samples\n",
      "Epoch 1/1\n",
      "79591/79591 [==============================] - 4s - loss: 0.3318 - mean_squared_error: 0.3318 - val_loss: 0.6949 - val_mean_squared_error: 0.6949\n",
      "Train on 79591 samples, validate on 16327 samples\n",
      "Epoch 1/1\n",
      "79591/79591 [==============================] - 4s - loss: 0.3307 - mean_squared_error: 0.3307 - val_loss: 0.6888 - val_mean_squared_error: 0.6888\n",
      "Train on 79591 samples, validate on 16327 samples\n",
      "Epoch 1/1\n",
      "79591/79591 [==============================] - 4s - loss: 0.3292 - mean_squared_error: 0.3292 - val_loss: 0.6917 - val_mean_squared_error: 0.6917\n",
      "Train on 79591 samples, validate on 16327 samples\n",
      "Epoch 1/1\n",
      "79591/79591 [==============================] - 4s - loss: 0.3307 - mean_squared_error: 0.3307 - val_loss: 0.6907 - val_mean_squared_error: 0.6907\n",
      "Train on 79591 samples, validate on 16327 samples\n",
      "Epoch 1/1\n",
      "79591/79591 [==============================] - 4s - loss: 0.3280 - mean_squared_error: 0.3280 - val_loss: 0.7033 - val_mean_squared_error: 0.7033\n",
      "Train on 79591 samples, validate on 16327 samples\n",
      "Epoch 1/1\n",
      "79591/79591 [==============================] - 4s - loss: 0.3272 - mean_squared_error: 0.3272 - val_loss: 0.7075 - val_mean_squared_error: 0.7075\n",
      "Train on 79591 samples, validate on 16327 samples\n",
      "Epoch 1/1\n",
      "79591/79591 [==============================] - 4s - loss: 0.3333 - mean_squared_error: 0.3333 - val_loss: 0.7050 - val_mean_squared_error: 0.7050\n",
      "Train on 79591 samples, validate on 16327 samples\n",
      "Epoch 1/1\n",
      "79591/79591 [==============================] - 5s - loss: 0.3299 - mean_squared_error: 0.3299 - val_loss: 0.6954 - val_mean_squared_error: 0.6954\n",
      "Train on 79591 samples, validate on 16327 samples\n",
      "Epoch 1/1\n",
      "79591/79591 [==============================] - 5s - loss: 0.3286 - mean_squared_error: 0.3286 - val_loss: 0.6860 - val_mean_squared_error: 0.6860\n",
      "Train on 79591 samples, validate on 16327 samples\n",
      "Epoch 1/1\n",
      "79591/79591 [==============================] - 4s - loss: 0.3307 - mean_squared_error: 0.3307 - val_loss: 0.6655 - val_mean_squared_error: 0.6655\n",
      "Train on 79591 samples, validate on 16327 samples\n",
      "Epoch 1/1\n",
      "79591/79591 [==============================] - 4s - loss: 0.3308 - mean_squared_error: 0.3308 - val_loss: 0.6771 - val_mean_squared_error: 0.6771\n",
      "Train on 79591 samples, validate on 16327 samples\n",
      "Epoch 1/1\n",
      "79591/79591 [==============================] - 4s - loss: 0.3282 - mean_squared_error: 0.3282 - val_loss: 0.6957 - val_mean_squared_error: 0.6957\n",
      "Train on 79591 samples, validate on 16327 samples\n",
      "Epoch 1/1\n",
      "79591/79591 [==============================] - 4s - loss: 0.3279 - mean_squared_error: 0.3279 - val_loss: 0.6914 - val_mean_squared_error: 0.6914\n",
      "Train on 79591 samples, validate on 16327 samples\n",
      "Epoch 1/1\n",
      "79591/79591 [==============================] - 4s - loss: 0.3278 - mean_squared_error: 0.3278 - val_loss: 0.6898 - val_mean_squared_error: 0.6898\n",
      "Train on 79591 samples, validate on 16327 samples\n",
      "Epoch 1/1\n",
      "79591/79591 [==============================] - 4s - loss: 0.3292 - mean_squared_error: 0.3292 - val_loss: 0.6823 - val_mean_squared_error: 0.6823\n",
      "Train on 79591 samples, validate on 16327 samples\n",
      "Epoch 1/1\n",
      "79591/79591 [==============================] - 5s - loss: 0.3271 - mean_squared_error: 0.3271 - val_loss: 0.6654 - val_mean_squared_error: 0.6654\n",
      "Train on 79591 samples, validate on 16327 samples\n",
      "Epoch 1/1\n",
      "79591/79591 [==============================] - 5s - loss: 0.3274 - mean_squared_error: 0.3274 - val_loss: 0.6872 - val_mean_squared_error: 0.6872\n",
      "Train on 79591 samples, validate on 16327 samples\n",
      "Epoch 1/1\n",
      "79591/79591 [==============================] - 5s - loss: 0.3268 - mean_squared_error: 0.3268 - val_loss: 0.6684 - val_mean_squared_error: 0.6684\n",
      "Train on 79591 samples, validate on 16327 samples\n",
      "Epoch 1/1\n",
      "79591/79591 [==============================] - 5s - loss: 0.3292 - mean_squared_error: 0.3292 - val_loss: 0.6910 - val_mean_squared_error: 0.6910\n",
      "Train on 79591 samples, validate on 16327 samples\n",
      "Epoch 1/1\n",
      "79591/79591 [==============================] - 4s - loss: 0.3264 - mean_squared_error: 0.3264 - val_loss: 0.6599 - val_mean_squared_error: 0.6599\n",
      "Train on 79591 samples, validate on 16327 samples\n",
      "Epoch 1/1\n",
      "79591/79591 [==============================] - 5s - loss: 0.3286 - mean_squared_error: 0.3286 - val_loss: 0.6758 - val_mean_squared_error: 0.6758\n",
      "Train on 79591 samples, validate on 16327 samples\n",
      "Epoch 1/1\n",
      "79591/79591 [==============================] - 4s - loss: 0.3277 - mean_squared_error: 0.3277 - val_loss: 0.6881 - val_mean_squared_error: 0.6881\n",
      "Train on 79591 samples, validate on 16327 samples\n",
      "Epoch 1/1\n",
      "79591/79591 [==============================] - 4s - loss: 0.3233 - mean_squared_error: 0.3233 - val_loss: 0.6858 - val_mean_squared_error: 0.6858\n",
      "Train on 79591 samples, validate on 16327 samples\n",
      "Epoch 1/1\n",
      "79591/79591 [==============================] - 5s - loss: 0.3280 - mean_squared_error: 0.3280 - val_loss: 0.6856 - val_mean_squared_error: 0.6856\n",
      "Train on 79591 samples, validate on 16327 samples\n",
      "Epoch 1/1\n",
      "79591/79591 [==============================] - 5s - loss: 0.3274 - mean_squared_error: 0.3274 - val_loss: 0.6869 - val_mean_squared_error: 0.6869\n",
      "Train on 79591 samples, validate on 16327 samples\n",
      "Epoch 1/1\n",
      "79591/79591 [==============================] - 4s - loss: 0.3280 - mean_squared_error: 0.3280 - val_loss: 0.6872 - val_mean_squared_error: 0.6872\n",
      "Train on 79591 samples, validate on 16327 samples\n",
      "Epoch 1/1\n",
      "79591/79591 [==============================] - 4s - loss: 0.3255 - mean_squared_error: 0.3255 - val_loss: 0.6823 - val_mean_squared_error: 0.6823\n",
      "Train on 79591 samples, validate on 16327 samples\n",
      "Epoch 1/1\n",
      "79591/79591 [==============================] - 4s - loss: 0.3282 - mean_squared_error: 0.3282 - val_loss: 0.6751 - val_mean_squared_error: 0.6751\n",
      "Train on 79591 samples, validate on 16327 samples\n",
      "Epoch 1/1\n",
      "79591/79591 [==============================] - 4s - loss: 0.3291 - mean_squared_error: 0.3291 - val_loss: 0.6660 - val_mean_squared_error: 0.6660\n",
      "Train on 79591 samples, validate on 16327 samples\n",
      "Epoch 1/1\n",
      "79591/79591 [==============================] - 4s - loss: 0.3255 - mean_squared_error: 0.3255 - val_loss: 0.6799 - val_mean_squared_error: 0.6799\n",
      "Train on 79591 samples, validate on 16327 samples\n",
      "Epoch 1/1\n",
      "79591/79591 [==============================] - 5s - loss: 0.3292 - mean_squared_error: 0.3292 - val_loss: 0.6909 - val_mean_squared_error: 0.6909\n",
      "Train on 79591 samples, validate on 16327 samples\n",
      "Epoch 1/1\n",
      "79591/79591 [==============================] - 4s - loss: 0.3279 - mean_squared_error: 0.3279 - val_loss: 0.6582 - val_mean_squared_error: 0.6582\n",
      "Train on 79591 samples, validate on 16327 samples\n",
      "Epoch 1/1\n",
      "79591/79591 [==============================] - 5s - loss: 0.3266 - mean_squared_error: 0.3266 - val_loss: 0.6716 - val_mean_squared_error: 0.6716\n",
      "Train on 79591 samples, validate on 16327 samples\n",
      "Epoch 1/1\n",
      "79591/79591 [==============================] - 4s - loss: 0.3245 - mean_squared_error: 0.3245 - val_loss: 0.6677 - val_mean_squared_error: 0.6677\n",
      "Train on 79591 samples, validate on 16327 samples\n",
      "Epoch 1/1\n",
      "79591/79591 [==============================] - 4s - loss: 0.3291 - mean_squared_error: 0.3291 - val_loss: 0.6976 - val_mean_squared_error: 0.6976\n",
      "Train on 79591 samples, validate on 16327 samples\n",
      "Epoch 1/1\n",
      "79591/79591 [==============================] - 4s - loss: 0.3243 - mean_squared_error: 0.3243 - val_loss: 0.6879 - val_mean_squared_error: 0.6879\n",
      "Train on 79591 samples, validate on 16327 samples\n",
      "Epoch 1/1\n",
      "79591/79591 [==============================] - 5s - loss: 0.3275 - mean_squared_error: 0.3275 - val_loss: 0.6939 - val_mean_squared_error: 0.6939\n",
      "Train on 79591 samples, validate on 16327 samples\n",
      "Epoch 1/1\n",
      "79591/79591 [==============================] - 4s - loss: 0.3224 - mean_squared_error: 0.3224 - val_loss: 0.6704 - val_mean_squared_error: 0.6704\n",
      "Train on 79591 samples, validate on 16327 samples\n",
      "Epoch 1/1\n",
      "79591/79591 [==============================] - 4s - loss: 0.3253 - mean_squared_error: 0.3253 - val_loss: 0.6708 - val_mean_squared_error: 0.6708\n",
      "Train on 79591 samples, validate on 16327 samples\n",
      "Epoch 1/1\n",
      "79591/79591 [==============================] - 6s - loss: 0.3250 - mean_squared_error: 0.3250 - val_loss: 0.6699 - val_mean_squared_error: 0.6699\n",
      "Train on 79591 samples, validate on 16327 samples\n",
      "Epoch 1/1\n",
      "79591/79591 [==============================] - 6s - loss: 0.3273 - mean_squared_error: 0.3273 - val_loss: 0.6822 - val_mean_squared_error: 0.6822\n",
      "Train on 79591 samples, validate on 16327 samples\n",
      "Epoch 1/1\n",
      "79591/79591 [==============================] - 5s - loss: 0.3246 - mean_squared_error: 0.3246 - val_loss: 0.6811 - val_mean_squared_error: 0.6811\n",
      "Train on 79591 samples, validate on 16327 samples\n",
      "Epoch 1/1\n",
      "79591/79591 [==============================] - 5s - loss: 0.3263 - mean_squared_error: 0.3263 - val_loss: 0.6698 - val_mean_squared_error: 0.6698\n",
      "Train on 79591 samples, validate on 16327 samples\n",
      "Epoch 1/1\n",
      "79591/79591 [==============================] - 5s - loss: 0.3276 - mean_squared_error: 0.3276 - val_loss: 0.6758 - val_mean_squared_error: 0.6758\n",
      "Train on 79591 samples, validate on 16327 samples\n",
      "Epoch 1/1\n",
      "79591/79591 [==============================] - 5s - loss: 0.3301 - mean_squared_error: 0.3301 - val_loss: 0.6751 - val_mean_squared_error: 0.6751\n",
      "Train on 79591 samples, validate on 16327 samples\n",
      "Epoch 1/1\n"
     ]
    },
    {
     "name": "stdout",
     "output_type": "stream",
     "text": [
      "79591/79591 [==============================] - 5s - loss: 0.3268 - mean_squared_error: 0.3268 - val_loss: 0.6761 - val_mean_squared_error: 0.6761\n",
      "Train on 79591 samples, validate on 16327 samples\n",
      "Epoch 1/1\n",
      "79591/79591 [==============================] - 5s - loss: 0.3244 - mean_squared_error: 0.3244 - val_loss: 0.6873 - val_mean_squared_error: 0.6873\n",
      "Train on 79591 samples, validate on 16327 samples\n",
      "Epoch 1/1\n",
      "79591/79591 [==============================] - 4s - loss: 0.3234 - mean_squared_error: 0.3234 - val_loss: 0.6851 - val_mean_squared_error: 0.6851\n",
      "Train on 79591 samples, validate on 16327 samples\n",
      "Epoch 1/1\n",
      "79591/79591 [==============================] - 4s - loss: 0.3271 - mean_squared_error: 0.3271 - val_loss: 0.6839 - val_mean_squared_error: 0.6839\n",
      "Train on 79591 samples, validate on 16327 samples\n",
      "Epoch 1/1\n",
      "79591/79591 [==============================] - 5s - loss: 0.3267 - mean_squared_error: 0.3267 - val_loss: 0.6862 - val_mean_squared_error: 0.6862\n",
      "Train on 79591 samples, validate on 16327 samples\n",
      "Epoch 1/1\n",
      "79591/79591 [==============================] - 5s - loss: 0.3264 - mean_squared_error: 0.3264 - val_loss: 0.6721 - val_mean_squared_error: 0.6721\n",
      "Train on 79591 samples, validate on 16327 samples\n",
      "Epoch 1/1\n",
      "79591/79591 [==============================] - 4s - loss: 0.3249 - mean_squared_error: 0.3249 - val_loss: 0.6879 - val_mean_squared_error: 0.6879\n",
      "Train on 79591 samples, validate on 16327 samples\n",
      "Epoch 1/1\n",
      "79591/79591 [==============================] - 4s - loss: 0.3246 - mean_squared_error: 0.3246 - val_loss: 0.6738 - val_mean_squared_error: 0.6738\n",
      "Train on 79591 samples, validate on 16327 samples\n",
      "Epoch 1/1\n",
      "79591/79591 [==============================] - 4s - loss: 0.3264 - mean_squared_error: 0.3264 - val_loss: 0.6680 - val_mean_squared_error: 0.6680\n",
      "Train on 79591 samples, validate on 16327 samples\n",
      "Epoch 1/1\n",
      "79591/79591 [==============================] - 4s - loss: 0.3250 - mean_squared_error: 0.3250 - val_loss: 0.6960 - val_mean_squared_error: 0.6960\n",
      "Train on 79591 samples, validate on 16327 samples\n",
      "Epoch 1/1\n",
      "79591/79591 [==============================] - 4s - loss: 0.3259 - mean_squared_error: 0.3259 - val_loss: 0.6931 - val_mean_squared_error: 0.6931\n",
      "Train on 79591 samples, validate on 16327 samples\n",
      "Epoch 1/1\n",
      "79591/79591 [==============================] - 4s - loss: 0.3253 - mean_squared_error: 0.3253 - val_loss: 0.6954 - val_mean_squared_error: 0.6954\n",
      "Train on 79591 samples, validate on 16327 samples\n",
      "Epoch 1/1\n",
      "79591/79591 [==============================] - 4s - loss: 0.3244 - mean_squared_error: 0.3244 - val_loss: 0.6753 - val_mean_squared_error: 0.6753\n",
      "Train on 79591 samples, validate on 16327 samples\n",
      "Epoch 1/1\n",
      "79591/79591 [==============================] - 4s - loss: 0.3236 - mean_squared_error: 0.3236 - val_loss: 0.6807 - val_mean_squared_error: 0.6807\n",
      "Train on 79591 samples, validate on 16327 samples\n",
      "Epoch 1/1\n",
      "79591/79591 [==============================] - 4s - loss: 0.3280 - mean_squared_error: 0.3280 - val_loss: 0.7011 - val_mean_squared_error: 0.7011\n",
      "Train on 79591 samples, validate on 16327 samples\n",
      "Epoch 1/1\n",
      "79591/79591 [==============================] - 4s - loss: 0.3282 - mean_squared_error: 0.3282 - val_loss: 0.6721 - val_mean_squared_error: 0.6721\n",
      "Train on 79591 samples, validate on 16327 samples\n",
      "Epoch 1/1\n",
      "79591/79591 [==============================] - 5s - loss: 0.3268 - mean_squared_error: 0.3268 - val_loss: 0.6885 - val_mean_squared_error: 0.6885\n",
      "Train on 79591 samples, validate on 16327 samples\n",
      "Epoch 1/1\n",
      "79591/79591 [==============================] - 4s - loss: 0.3259 - mean_squared_error: 0.3259 - val_loss: 0.6855 - val_mean_squared_error: 0.6855\n",
      "Train on 79591 samples, validate on 16327 samples\n",
      "Epoch 1/1\n",
      "79591/79591 [==============================] - 4s - loss: 0.3280 - mean_squared_error: 0.3280 - val_loss: 0.6764 - val_mean_squared_error: 0.6764\n",
      "Train on 79591 samples, validate on 16327 samples\n",
      "Epoch 1/1\n",
      "79591/79591 [==============================] - 4s - loss: 0.3219 - mean_squared_error: 0.3219 - val_loss: 0.6828 - val_mean_squared_error: 0.6828\n",
      "Train on 79591 samples, validate on 16327 samples\n",
      "Epoch 1/1\n",
      "79591/79591 [==============================] - 5s - loss: 0.3275 - mean_squared_error: 0.3275 - val_loss: 0.6775 - val_mean_squared_error: 0.6775\n"
     ]
    }
   ],
   "source": [
    "hist = []\n",
    "for _ in range(100):\n",
    "    hist.append(autoencoder.fit(X_train, X_train,\n",
    "                    epochs=1,\n",
    "                    batch_size=batch_size,\n",
    "                    shuffle=True,\n",
    "                    validation_data=(X_test, X_test),\n",
    "                    verbose=1).history)"
   ]
  },
  {
   "cell_type": "code",
   "execution_count": 22,
   "metadata": {
    "collapsed": true
   },
   "outputs": [],
   "source": [
    "_hist_ = [(x['loss'][0], x['val_loss'][0]) for x in hist]"
   ]
  },
  {
   "cell_type": "code",
   "execution_count": 23,
   "metadata": {
    "collapsed": true
   },
   "outputs": [],
   "source": [
    "##To extract outputs from the hidden layer\n",
    "from keras import backend as K\n",
    "layer_output_encoded = K.function([autoencoder.layers[0].input,K.learning_phase()],\n",
    "                                  [autoencoder.layers[1].output])\n"
   ]
  },
  {
   "cell_type": "code",
   "execution_count": 24,
   "metadata": {
    "collapsed": true
   },
   "outputs": [],
   "source": [
    "encoded=layer_output_encoded([X_train,0])[0]"
   ]
  },
  {
   "cell_type": "code",
   "execution_count": 25,
   "metadata": {
    "collapsed": true
   },
   "outputs": [],
   "source": [
    "##To extract outputs from the output layer\n",
    "layer_output_decoded = K.function([autoencoder.layers[0].input, K.learning_phase()],\n",
    "                                  [autoencoder.layers[2].output])\n",
    "decoded = layer_output_decoded([X_train, 0])[0]\n",
    "\n"
   ]
  },
  {
   "cell_type": "code",
   "execution_count": 26,
   "metadata": {
    "collapsed": true
   },
   "outputs": [],
   "source": [
    "## Making predictions on the train data\n",
    "predictions=autoencoder.predict(X_train)"
   ]
  },
  {
   "cell_type": "code",
   "execution_count": 27,
   "metadata": {},
   "outputs": [
    {
     "name": "stdout",
     "output_type": "stream",
     "text": [
      "14560/15942 [==========================>...] - ETA: 0s"
     ]
    },
    {
     "data": {
      "text/plain": [
       "[0.2329422312079103, 0.2329422312079103]"
      ]
     },
     "execution_count": 27,
     "metadata": {},
     "output_type": "execute_result"
    }
   ],
   "source": [
    "#Getting the errors from the non fraud data separately \n",
    "autoencoder.evaluate(test_nf[:,:29],test_nf[:,:29])"
   ]
  },
  {
   "cell_type": "code",
   "execution_count": 28,
   "metadata": {},
   "outputs": [
    {
     "name": "stdout",
     "output_type": "stream",
     "text": [
      "\r",
      " 32/385 [=>............................] - ETA: 0s"
     ]
    },
    {
     "data": {
      "text/plain": [
       "[19.086169242858887, 19.086169242858887]"
      ]
     },
     "execution_count": 28,
     "metadata": {},
     "output_type": "execute_result"
    }
   ],
   "source": [
    "#Getting the errors from the fraud data separately\n",
    "autoencoder.evaluate(test_f[:,:29],test_f[:,:29])"
   ]
  },
  {
   "cell_type": "code",
   "execution_count": 29,
   "metadata": {
    "collapsed": true
   },
   "outputs": [],
   "source": [
    "#Obtaining predictions for non fraud records\n",
    "predictions_nf=autoencoder.predict(test_nf[:,:29])"
   ]
  },
  {
   "cell_type": "code",
   "execution_count": 30,
   "metadata": {
    "collapsed": true
   },
   "outputs": [],
   "source": [
    "#Obtaining preictions for fraud records\n",
    "predictions_f=autoencoder.predict(test_f[:,:29])"
   ]
  },
  {
   "cell_type": "code",
   "execution_count": 31,
   "metadata": {},
   "outputs": [
    {
     "data": {
      "text/plain": [
       "0.23294223062716882"
      ]
     },
     "execution_count": 31,
     "metadata": {},
     "output_type": "execute_result"
    }
   ],
   "source": [
    "#Identifying the error computation method by autoencoder(Mean Squared Error). The computation is as follows \n",
    "np.mean(np.square(np.abs(test_nf[:,:29]-predictions_nf)))"
   ]
  },
  {
   "cell_type": "code",
   "execution_count": 32,
   "metadata": {
    "collapsed": true
   },
   "outputs": [],
   "source": [
    "#Computing errors on the non-fraud data\n",
    "errors_nf = np.mean(np.square(np.abs(test_nf[:,:29]-predictions_nf)), axis=1)"
   ]
  },
  {
   "cell_type": "code",
   "execution_count": 33,
   "metadata": {
    "collapsed": true
   },
   "outputs": [],
   "source": [
    "#Computing errors on the fraud data\n",
    "errors_f = np.mean(np.square(np.abs(test_f[:,:29]-predictions_f)), axis=1)"
   ]
  },
  {
   "cell_type": "code",
   "execution_count": 34,
   "metadata": {},
   "outputs": [
    {
     "name": "stdout",
     "output_type": "stream",
     "text": [
      "0.0127176941504\n",
      "92.1335036882\n",
      "0.143308296747\n",
      "0.0485164909068\n",
      "134.096931965\n",
      "7.75419593381\n"
     ]
    }
   ],
   "source": [
    "#Computing the distribution of errors in both non-fraud and fraud data\n",
    "print(np.min(errors_nf))\n",
    "print(np.max(errors_nf))\n",
    "print(np.median(errors_nf))\n",
    "\n",
    "print(np.min(errors_f))\n",
    "print(np.max(errors_f))\n",
    "print(np.median(errors_f))"
   ]
  },
  {
   "cell_type": "code",
   "execution_count": 82,
   "metadata": {},
   "outputs": [
    {
     "data": {
      "text/plain": [
       "{'boxes': [<matplotlib.lines.Line2D at 0x17fa2710fd0>],\n",
       " 'caps': [<matplotlib.lines.Line2D at 0x17fa27149e8>,\n",
       "  <matplotlib.lines.Line2D at 0x17fa2714be0>],\n",
       " 'fliers': [<matplotlib.lines.Line2D at 0x17fa270bcc0>],\n",
       " 'means': [],\n",
       " 'medians': [<matplotlib.lines.Line2D at 0x17fa270b470>],\n",
       " 'whiskers': [<matplotlib.lines.Line2D at 0x17fa2713908>,\n",
       "  <matplotlib.lines.Line2D at 0x17fa2713b38>]}"
      ]
     },
     "execution_count": 82,
     "metadata": {},
     "output_type": "execute_result"
    },
    {
     "data": {
      "image/png": "[encoded data removed]",
      "text/plain": [
       "<matplotlib.figure.Figure at 0x17fa3691ba8>"
      ]
     },
     "metadata": {},
     "output_type": "display_data"
    }
   ],
   "source": [
    "#PLotting the error box plots \n",
    "size=(20,20)\n",
    "fig,ax = plt.subplots(figsize=size)\n",
    "plt.subplot(1, 2, 1)\n",
    "plt.boxplot(errors_f)\n",
    "\n",
    "plt.subplot(1, 2, 2)\n",
    "plt.ylim(0,1)\n",
    "plt.boxplot(errors_nf)"
   ]
  },
  {
   "cell_type": "code",
   "execution_count": 36,
   "metadata": {},
   "outputs": [
    {
     "name": "stdout",
     "output_type": "stream",
     "text": [
      "18\n",
      "192\n",
      "21\n"
     ]
    },
    {
     "data": {
      "text/plain": [
       "7971"
      ]
     },
     "execution_count": 36,
     "metadata": {},
     "output_type": "execute_result"
    }
   ],
   "source": [
    "#Experimentation to fix a threshold for classification of a transaction into fraud or non-fraud\n",
    "print(sum(errors_nf>np.median(errors_f)))\n",
    "print(sum(errors_f<np.median(errors_f)))\n",
    "print(sum(errors_f<np.median(errors_nf)))\n",
    "sum(errors_nf>np.median(errors_nf))"
   ]
  },
  {
   "cell_type": "code",
   "execution_count": 37,
   "metadata": {},
   "outputs": [
    {
     "name": "stdout",
     "output_type": "stream",
     "text": [
      "(15942,)\n",
      "(385,)\n"
     ]
    }
   ],
   "source": [
    "print(errors_nf.shape)\n",
    "print(errors_f.shape)"
   ]
  },
  {
   "cell_type": "code",
   "execution_count": 38,
   "metadata": {},
   "outputs": [
    {
     "name": "stdout",
     "output_type": "stream",
     "text": [
      "(15942, 29)\n",
      "(385, 29)\n"
     ]
    }
   ],
   "source": [
    "print(predictions_nf.shape)\n",
    "print(predictions_f.shape)"
   ]
  },
  {
   "cell_type": "code",
   "execution_count": 41,
   "metadata": {
    "collapsed": true
   },
   "outputs": [],
   "source": [
    "test_pred = autoencoder.predict(X_test[:,:29])\n",
    "test_recon  = (((test_pred-X_test)**2).mean(-1))\n",
    "\n",
    "train_pred = autoencoder.predict(X_train[:,:29])\n",
    "mean_recon = (((train_pred - X_train)**2).mean(-1).mean())\n",
    "\n",
    "from sklearn.metrics import precision_score,recall_score,f1_score,confusion_matrix\n",
    "\n",
    "scores_f1 = []\n",
    "thres = []\n",
    "\n",
    "th = 0\n",
    "for i in range(100):\n",
    "    th+=0.1\n",
    "    fraud = (test_recon>mean_recon+th)\n",
    "    scores_f1.append(f1_score(y_test,fraud))\n",
    "    thres.append(th+mean_recon)\n",
    "    "
   ]
  },
  {
   "cell_type": "code",
   "execution_count": 43,
   "metadata": {},
   "outputs": [
    {
     "name": "stdout",
     "output_type": "stream",
     "text": [
      "2.82945941313\n"
     ]
    },
    {
     "data": {
      "text/plain": [
       "array([[15890,    52],\n",
       "       [   89,   296]])"
      ]
     },
     "execution_count": 43,
     "metadata": {},
     "output_type": "execute_result"
    },
    {
     "data": {
      "image/png": "[encoded data removed]",
      "text/plain": [
       "<matplotlib.figure.Figure at 0x17f9ba5fac8>"
      ]
     },
     "metadata": {},
     "output_type": "display_data"
    }
   ],
   "source": [
    "plt.plot(thres, scores_f1)\n",
    "\n",
    "print(thres[np.array(scores_f1).argmax()])\n",
    "\n",
    "fraud = (test_recon>thres[np.array(scores_f1).argmax()])\n",
    "\n",
    "confusion_matrix(y_test, fraud)"
   ]
  },
  {
   "cell_type": "code",
   "execution_count": 77,
   "metadata": {
    "collapsed": true
   },
   "outputs": [],
   "source": [
    "eval_pred = autoencoder.predict(X_eval[:,:29])\n",
    "eval_recon  = (((eval_pred-X_eval[:,:29])**2).mean(-1))\n",
    "fraud_eval = (eval_recon>thres[np.array(scores_f1).argmax()])"
   ]
  },
  {
   "cell_type": "code",
   "execution_count": 78,
   "metadata": {},
   "outputs": [
    {
     "data": {
      "text/plain": [
       "array([[3968,    7],\n",
       "       [  21,   86]])"
      ]
     },
     "execution_count": 78,
     "metadata": {},
     "output_type": "execute_result"
    }
   ],
   "source": [
    "confusion_matrix(X_eval[:,29], fraud_eval)"
   ]
  },
  {
   "cell_type": "code",
   "execution_count": 84,
   "metadata": {},
   "outputs": [
    {
     "name": "stdout",
     "output_type": "stream",
     "text": [
      "0.803738317757\n",
      "0.924731182796\n",
      "0.993140617344\n"
     ]
    }
   ],
   "source": [
    "print(recall_score(X_eval[:,29],fraud_eval))\n",
    "print(precision_score(X_eval[:,29],fraud_eval))\n",
    "print(accuracy_score(X_eval[:,29],fraud_eval))"
   ]
  },
  {
   "cell_type": "code",
   "execution_count": 85,
   "metadata": {},
   "outputs": [
    {
     "name": "stdout",
     "output_type": "stream",
     "text": [
      "0.794805194805\n",
      "0.990291262136\n",
      "0.994977644393\n"
     ]
    }
   ],
   "source": [
    "print(recall_score(y_test, fraud))\n",
    "print(precision_score(y_test, fraud))\n",
    "print(accuracy_score(y_test, fraud))"
   ]
  }
 ],
 "metadata": {
  "kernelspec": {
   "display_name": "Python 3",
   "language": "python",
   "name": "python3"
  },
  "language_info": {
   "codemirror_mode": {
    "name": "ipython",
    "version": 3
   },
   "file_extension": ".py",
   "mimetype": "text/x-python",
   "name": "python",
   "nbconvert_exporter": "python",
   "pygments_lexer": "ipython3",
   "version": "3.6.8"
  }
 },
 "nbformat": 4,
 "nbformat_minor": 2
}
